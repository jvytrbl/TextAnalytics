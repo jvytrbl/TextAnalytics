{
 "cells": [
  {
   "cell_type": "code",
   "execution_count": 2,
   "id": "46906bf0-b266-4c02-95a6-13b1aa9933b4",
   "metadata": {},
   "outputs": [],
   "source": [
    "import re"
   ]
  },
  {
   "cell_type": "code",
   "execution_count": 4,
   "id": "2fb788f4-57bb-4485-a40f-0fd1575b0ee3",
   "metadata": {},
   "outputs": [
    {
     "name": "stdout",
     "output_type": "stream",
     "text": [
      "Digits found: ['2', '4', '5', '6', '7', '8', '9', '4', '3', '1', '2', '3', '0']\n"
     ]
    }
   ],
   "source": [
    "text = \"Order number:24567, Tracking IF:8943A12, Quantity: 30\"\n",
    "pattern = r\"\\d\"\n",
    "\n",
    "matches=re.findall(pattern,text)\n",
    "print(\"Digits found:\",matches)"
   ]
  },
  {
   "cell_type": "code",
   "execution_count": 6,
   "id": "1bf7fc9c-0fbe-4d80-abaf-588865ff3890",
   "metadata": {},
   "outputs": [
    {
     "name": "stdout",
     "output_type": "stream",
     "text": [
      "Non-alphanumeric charactesrs:  ['!', ' ', \"'\", ' ', ' ', ' ', '?', ' ', ' ', ' ', '@', '.']\n"
     ]
    }
   ],
   "source": [
    "text = \"Welcome! How's your day going? Call me @3pm.\"\n",
    "pattern = r\"\\W\"\n",
    "\n",
    "matches = re.findall(pattern,text)\n",
    "print(\"Non-alphanumeric charactesrs: \", matches)"
   ]
  },
  {
   "cell_type": "code",
   "execution_count": 26,
   "id": "fcfd6bf6-36ee-4b24-be0d-d0189d36112b",
   "metadata": {},
   "outputs": [
    {
     "name": "stdout",
     "output_type": "stream",
     "text": [
      "Split text:  ['Data Science', ' AI', ' and Machine Learning', ' These fields are growing fast', '']\n"
     ]
    }
   ],
   "source": [
    "text = \"Data Science, AI, and Machine Learning. These fields are growing fast.\"\n",
    "pattern = r\"[,.]\"\n",
    "\n",
    "split_text = re.split(pattern,text)\n",
    "print(\"Split text: \", split_text)"
   ]
  },
  {
   "cell_type": "code",
   "execution_count": 30,
   "id": "3d8c4f3b-4ebb-4332-97a8-20e3012259c4",
   "metadata": {},
   "outputs": [
    {
     "name": "stdout",
     "output_type": "stream",
     "text": [
      "Anonymized text:  Contact us at [HIDDEN] or [HIDDEN]\n"
     ]
    }
   ],
   "source": [
    "text = \"Contact us at support@example.com or info@company.org\"\n",
    "pattern = r'\\b[\\w\\.-]+@[\\w\\.-]+\\.\\w+\\b'\n",
    "\n",
    "new_text = re.sub(pattern, \"[HIDDEN]\",text)\n",
    "print(\"Anonymized text: \",new_text)"
   ]
  },
  {
   "cell_type": "code",
   "execution_count": 34,
   "id": "4825d668-e78f-420f-ad3a-b4fff2b26d5a",
   "metadata": {},
   "outputs": [
    {
     "name": "stdout",
     "output_type": "stream",
     "text": [
      "Domain Types:  ['com', 'edu', 'org']\n"
     ]
    }
   ],
   "source": [
    "text = \"Emails:user@gmail.com, admin@university.edu, info@company.org\"\n",
    "pattern = r\"@\\w+.(\\w+.\\w+)\"\n",
    "\n",
    "matches = re.findall(pattern,text)\n",
    "print(\"Domain Types: \", matches)"
   ]
  },
  {
   "cell_type": "code",
   "execution_count": null,
   "id": "348b6423-0f48-4937-a02a-01274d24145e",
   "metadata": {},
   "outputs": [],
   "source": []
  }
 ],
 "metadata": {
  "kernelspec": {
   "display_name": "Python [conda env:base] *",
   "language": "python",
   "name": "conda-base-py"
  },
  "language_info": {
   "codemirror_mode": {
    "name": "ipython",
    "version": 3
   },
   "file_extension": ".py",
   "mimetype": "text/x-python",
   "name": "python",
   "nbconvert_exporter": "python",
   "pygments_lexer": "ipython3",
   "version": "3.12.7"
  }
 },
 "nbformat": 4,
 "nbformat_minor": 5
}
