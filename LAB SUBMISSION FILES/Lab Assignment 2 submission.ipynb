{
 "cells": [
  {
   "cell_type": "code",
   "execution_count": 1,
   "id": "ffb614a4-9e6a-4e06-a27c-f1e2479627e0",
   "metadata": {},
   "outputs": [
    {
     "data": {
      "text/html": [
       "<div>\n",
       "<style scoped>\n",
       "    .dataframe tbody tr th:only-of-type {\n",
       "        vertical-align: middle;\n",
       "    }\n",
       "\n",
       "    .dataframe tbody tr th {\n",
       "        vertical-align: top;\n",
       "    }\n",
       "\n",
       "    .dataframe thead th {\n",
       "        text-align: right;\n",
       "    }\n",
       "</style>\n",
       "<table border=\"1\" class=\"dataframe\">\n",
       "  <thead>\n",
       "    <tr style=\"text-align: right;\">\n",
       "      <th></th>\n",
       "      <th>Score</th>\n",
       "      <th>Text</th>\n",
       "    </tr>\n",
       "  </thead>\n",
       "  <tbody>\n",
       "    <tr>\n",
       "      <th>0</th>\n",
       "      <td>5</td>\n",
       "      <td>I have bought several of the Vitality canned d...</td>\n",
       "    </tr>\n",
       "    <tr>\n",
       "      <th>1</th>\n",
       "      <td>1</td>\n",
       "      <td>Product arrived labeled as Jumbo Salted Peanut...</td>\n",
       "    </tr>\n",
       "    <tr>\n",
       "      <th>2</th>\n",
       "      <td>4</td>\n",
       "      <td>This is a confection that has been around a fe...</td>\n",
       "    </tr>\n",
       "    <tr>\n",
       "      <th>3</th>\n",
       "      <td>2</td>\n",
       "      <td>If you are looking for the secret ingredient i...</td>\n",
       "    </tr>\n",
       "    <tr>\n",
       "      <th>4</th>\n",
       "      <td>5</td>\n",
       "      <td>Great taffy at a great price.  There was a wid...</td>\n",
       "    </tr>\n",
       "  </tbody>\n",
       "</table>\n",
       "</div>"
      ],
      "text/plain": [
       "   Score                                               Text\n",
       "0      5  I have bought several of the Vitality canned d...\n",
       "1      1  Product arrived labeled as Jumbo Salted Peanut...\n",
       "2      4  This is a confection that has been around a fe...\n",
       "3      2  If you are looking for the secret ingredient i...\n",
       "4      5  Great taffy at a great price.  There was a wid..."
      ]
     },
     "execution_count": 1,
     "metadata": {},
     "output_type": "execute_result"
    }
   ],
   "source": [
    "import pandas as pd\n",
    "import numpy as np\n",
    "import string\n",
    "from nltk.corpus import stopwords\n",
    "from nltk.tokenize import word_tokenize\n",
    "from nltk.stem import PorterStemmer\n",
    "from afinn import Afinn\n",
    "import matplotlib.pyplot as plt\n",
    "import seaborn as sns\n",
    "\n",
    "df = pd.read_csv(\"Reviews.csv\")\n",
    "df = df[['Score', 'Text']].dropna()\n",
    "df.head()  "
   ]
  },
  {
   "cell_type": "code",
   "execution_count": 3,
   "id": "572af715-82bc-44ac-8be2-1280b5d3c3b9",
   "metadata": {},
   "outputs": [
    {
     "data": {
      "text/plain": [
       "original_sentiment\n",
       "positive    443777\n",
       "negative     82037\n",
       "neutral      42640\n",
       "Name: count, dtype: int64"
      ]
     },
     "execution_count": 3,
     "metadata": {},
     "output_type": "execute_result"
    }
   ],
   "source": [
    "def label_sentiment(score):\n",
    "    if score >= 4:\n",
    "        return \"positive\"\n",
    "    elif score == 3:\n",
    "        return \"neutral\"\n",
    "    else:\n",
    "        return \"negative\"\n",
    "\n",
    "df['original_sentiment'] = df['Score'].apply(label_sentiment)\n",
    "df['original_sentiment'].value_counts()"
   ]
  },
  {
   "cell_type": "code",
   "execution_count": 5,
   "id": "c76dfb79-17d0-454b-b7fc-26443c976026",
   "metadata": {},
   "outputs": [
    {
     "name": "stdout",
     "output_type": "stream",
     "text": [
      "Requirement already satisfied: tqdm in c:\\users\\user\\anaconda3\\lib\\site-packages (4.66.5)\n",
      "Requirement already satisfied: colorama in c:\\users\\user\\anaconda3\\lib\\site-packages (from tqdm) (0.4.6)\n",
      "Note: you may need to restart the kernel to use updated packages.\n"
     ]
    }
   ],
   "source": [
    "pip install tqdm\n"
   ]
  },
  {
   "cell_type": "code",
   "execution_count": 7,
   "id": "83169449-f8c3-446b-8686-3a33a5858e5c",
   "metadata": {},
   "outputs": [
    {
     "name": "stderr",
     "output_type": "stream",
     "text": [
      "100%|██████████| 568454/568454 [27:47<00:00, 340.84it/s] \n"
     ]
    },
    {
     "data": {
      "text/html": [
       "<div>\n",
       "<style scoped>\n",
       "    .dataframe tbody tr th:only-of-type {\n",
       "        vertical-align: middle;\n",
       "    }\n",
       "\n",
       "    .dataframe tbody tr th {\n",
       "        vertical-align: top;\n",
       "    }\n",
       "\n",
       "    .dataframe thead th {\n",
       "        text-align: right;\n",
       "    }\n",
       "</style>\n",
       "<table border=\"1\" class=\"dataframe\">\n",
       "  <thead>\n",
       "    <tr style=\"text-align: right;\">\n",
       "      <th></th>\n",
       "      <th>afinn_score</th>\n",
       "      <th>afinn_sentiment</th>\n",
       "    </tr>\n",
       "  </thead>\n",
       "  <tbody>\n",
       "    <tr>\n",
       "      <th>0</th>\n",
       "      <td>16.0</td>\n",
       "      <td>positive</td>\n",
       "    </tr>\n",
       "    <tr>\n",
       "      <th>1</th>\n",
       "      <td>-2.0</td>\n",
       "      <td>negative</td>\n",
       "    </tr>\n",
       "    <tr>\n",
       "      <th>2</th>\n",
       "      <td>3.0</td>\n",
       "      <td>positive</td>\n",
       "    </tr>\n",
       "    <tr>\n",
       "      <th>3</th>\n",
       "      <td>3.0</td>\n",
       "      <td>positive</td>\n",
       "    </tr>\n",
       "    <tr>\n",
       "      <th>4</th>\n",
       "      <td>9.0</td>\n",
       "      <td>positive</td>\n",
       "    </tr>\n",
       "  </tbody>\n",
       "</table>\n",
       "</div>"
      ],
      "text/plain": [
       "   afinn_score afinn_sentiment\n",
       "0         16.0        positive\n",
       "1         -2.0        negative\n",
       "2          3.0        positive\n",
       "3          3.0        positive\n",
       "4          9.0        positive"
      ]
     },
     "execution_count": 7,
     "metadata": {},
     "output_type": "execute_result"
    }
   ],
   "source": [
    "from tqdm import tqdm\n",
    "tqdm.pandas()\n",
    "\n",
    "af = Afinn()\n",
    "\n",
    "df['afinn_score'] = df['Text'].progress_apply(lambda x: af.score(x))\n",
    "\n",
    "df['afinn_sentiment'] = df['afinn_score'].apply(\n",
    "    lambda x: 'positive' if x > 0 else 'negative' if x < 0 else 'neutral'\n",
    ")\n",
    "\n",
    "df[['afinn_score', 'afinn_sentiment']].head()\n"
   ]
  },
  {
   "cell_type": "code",
   "execution_count": 9,
   "id": "6a7b981d-97c3-44e6-abad-832aff01d263",
   "metadata": {},
   "outputs": [
    {
     "name": "stderr",
     "output_type": "stream",
     "text": [
      "[nltk_data] Downloading package punkt to\n",
      "[nltk_data]     C:\\Users\\User\\AppData\\Roaming\\nltk_data...\n",
      "[nltk_data]   Package punkt is already up-to-date!\n",
      "[nltk_data] Downloading package stopwords to\n",
      "[nltk_data]     C:\\Users\\User\\AppData\\Roaming\\nltk_data...\n",
      "[nltk_data]   Package stopwords is already up-to-date!\n",
      "100%|██████████| 568454/568454 [16:54<00:00, 560.50it/s] \n"
     ]
    }
   ],
   "source": [
    "# Preprocessing setup\n",
    "import nltk\n",
    "nltk.download('punkt')\n",
    "nltk.download('stopwords')\n",
    "\n",
    "tqdm.pandas()\n",
    "\n",
    "stop_words = set(stopwords.words('english'))\n",
    "stemmer = PorterStemmer()\n",
    "\n",
    "def preprocess(text):\n",
    "    text = text.lower().translate(str.maketrans('', '', string.punctuation))\n",
    "    tokens = word_tokenize(text)\n",
    "    filtered = [stemmer.stem(w) for w in tokens if w not in stop_words and w.isalpha()]\n",
    "    return ' '.join(filtered)\n",
    "\n",
    "df['processed_text'] = df['Text'].progress_apply(preprocess)\n"
   ]
  },
  {
   "cell_type": "code",
   "execution_count": 11,
   "id": "48ff7a88-6b57-474d-863a-599602e52f32",
   "metadata": {},
   "outputs": [
    {
     "data": {
      "text/plain": [
       "(568454, 5000)"
      ]
     },
     "execution_count": 11,
     "metadata": {},
     "output_type": "execute_result"
    }
   ],
   "source": [
    "from sklearn.feature_extraction.text import TfidfVectorizer\n",
    "\n",
    "vectorizer = TfidfVectorizer(max_features=5000)\n",
    "X = vectorizer.fit_transform(df['processed_text'])\n",
    "\n",
    "X.shape\n"
   ]
  },
  {
   "cell_type": "code",
   "execution_count": 13,
   "id": "6e25c736-d96a-41ba-82ea-5c5756bd3677",
   "metadata": {},
   "outputs": [
    {
     "name": "stdout",
     "output_type": "stream",
     "text": [
      "Training set: (454763, 5000)\n",
      "Test set    : (113691, 5000)\n"
     ]
    }
   ],
   "source": [
    "from sklearn.model_selection import train_test_split\n",
    "\n",
    "y = df['original_sentiment']\n",
    "\n",
    "X_train, X_test, y_train, y_test = train_test_split(X, y, test_size=0.2, random_state=42)\n",
    "\n",
    "print(\"Training set:\", X_train.shape)\n",
    "print(\"Test set    :\", X_test.shape)\n"
   ]
  },
  {
   "cell_type": "code",
   "execution_count": 17,
   "id": "2e7a7bb7-1177-410a-bbcf-05e34c260714",
   "metadata": {},
   "outputs": [
    {
     "name": "stdout",
     "output_type": "stream",
     "text": [
      "Naive Bayes Results:\n",
      "\n",
      "              precision    recall  f1-score   support\n",
      "\n",
      "    negative       0.85      0.25      0.38     16181\n",
      "     neutral       0.53      0.00      0.00      8485\n",
      "    positive       0.81      1.00      0.90     89025\n",
      "\n",
      "    accuracy                           0.81    113691\n",
      "   macro avg       0.73      0.41      0.43    113691\n",
      "weighted avg       0.80      0.81      0.76    113691\n",
      "\n"
     ]
    }
   ],
   "source": [
    "from sklearn.naive_bayes import MultinomialNB\n",
    "from sklearn.metrics import classification_report\n",
    "\n",
    "nb = MultinomialNB()\n",
    "nb.fit(X_train, y_train)\n",
    "\n",
    "print(\"Naive Bayes Results:\\n\")\n",
    "print(classification_report(y_test, nb.predict(X_test)))"
   ]
  },
  {
   "cell_type": "code",
   "execution_count": 21,
   "id": "8394e002-848f-427d-9fca-0937167140d1",
   "metadata": {},
   "outputs": [
    {
     "name": "stdout",
     "output_type": "stream",
     "text": [
      "SVM Results:\n",
      "\n",
      "              precision    recall  f1-score   support\n",
      "\n",
      "    negative       0.72      0.66      0.69     16181\n",
      "     neutral       0.58      0.10      0.17      8485\n",
      "    positive       0.89      0.97      0.93     89025\n",
      "\n",
      "    accuracy                           0.86    113691\n",
      "   macro avg       0.73      0.58      0.60    113691\n",
      "weighted avg       0.84      0.86      0.84    113691\n",
      "\n"
     ]
    }
   ],
   "source": [
    "from sklearn.svm import LinearSVC\n",
    "\n",
    "svm = LinearSVC()\n",
    "svm.fit(X_train, y_train)\n",
    "\n",
    "print(\"SVM Results:\\n\")\n",
    "print(classification_report(y_test, svm.predict(X_test)))"
   ]
  },
  {
   "cell_type": "markdown",
   "id": "775bdc84-f058-4601-af6f-44352e73f677",
   "metadata": {},
   "source": [
    "### Discussion: Sentiment Classification Models – AFINN, Naive Bayes, and SVM\n",
    "\n",
    "In this study, we applied three different methods for sentiment analysis on the Amazon Fine Food Reviews dataset: a lexicon-based model (AFINN), Naive Bayes, and Support Vector Machine (SVM).\n",
    "\n",
    "**AFINN Lexicon-Based Model:**\n",
    "AFINN uses a predefined dictionary of words with sentiment scores ranging from -5 to +5. It is simple to implement and does not require training data. However, it lacks context sensitivity and struggles with sarcasm, negations, and words outside its dictionary. In large datasets, AFINN tends to overpredict \"positive\" sentiment due to the vocabulary bias in the lexicon.\n",
    "\n",
    "**Naive Bayes Classifier:**\n",
    "Naive Bayes performed reasonably well overall with an accuracy of 81%, but it showed poor recall for the \"negative\" and \"neutral\" classes. This is because Naive Bayes is sensitive to class imbalance and tends to favor the dominant class, which in this dataset is \"positive\".\n",
    "\n",
    "**Support Vector Machine (SVM):**\n",
    "SVM achieved the best performance with an accuracy of 86%, strong precision, and recall across all sentiment categories. It was especially effective for the \"positive\" class (F1-score of 0.93) and improved significantly over Naive Bayes in detecting \"negative\" and \"neutral\" sentiments. This confirms that SVM is a strong choice for high-dimensional text data like TF-IDF.\n",
    "\n",
    "**Conclusion:**\n",
    "While AFINN offers quick and interpretable results, SVM is the most robust and balanced model for sentiment classification in this dataset. Naive Bayes is acceptable but less reliable in imbalanced class scenarios.\n",
    "\n",
    "*Name: Muhammad Hakimi bin Azizi*  \n",
    "*Student ID: SW01082355*\n",
    "\n",
    "*Name: Izzat Hatta bin Azizi*  \n",
    "*Student ID: SW01082390*\n"
   ]
  },
  {
   "cell_type": "code",
   "execution_count": 26,
   "id": "d09bcf8d-13c9-4b14-833b-f6d790aba6ae",
   "metadata": {},
   "outputs": [],
   "source": [
    "df.to_csv(\"afinn_sentiment_output.csv\", index=False)\n"
   ]
  },
  {
   "cell_type": "code",
   "execution_count": null,
   "id": "bab5ee59-c4c8-4880-bb02-20a21feb8234",
   "metadata": {},
   "outputs": [],
   "source": []
  }
 ],
 "metadata": {
  "kernelspec": {
   "display_name": "Python [conda env:base] *",
   "language": "python",
   "name": "conda-base-py"
  },
  "language_info": {
   "codemirror_mode": {
    "name": "ipython",
    "version": 3
   },
   "file_extension": ".py",
   "mimetype": "text/x-python",
   "name": "python",
   "nbconvert_exporter": "python",
   "pygments_lexer": "ipython3",
   "version": "3.12.7"
  }
 },
 "nbformat": 4,
 "nbformat_minor": 5
}
