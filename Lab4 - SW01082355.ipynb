{
 "cells": [
  {
   "cell_type": "markdown",
   "id": "8465f963-7654-41d6-a87e-cbfee4729ed3",
   "metadata": {},
   "source": [
    "## Step 1 : Read the source data"
   ]
  },
  {
   "cell_type": "code",
   "execution_count": 1,
   "id": "dbb2238e-eb16-48ed-af80-d43c82d29d00",
   "metadata": {},
   "outputs": [
    {
     "name": "stdout",
     "output_type": "stream",
     "text": [
      "                                                                           Review\n",
      "0   The product arrived on time. Packaging was great, and the quality is amazing!\n",
      "1                                        THIS PRODUCT IS JUST AMAZING! I LOVE IT.\n",
      "2     I bought this phone for $799, and it has a 120Hz display. Totally worth it!\n",
      "3                         Wow!!! This product is awesome... but a bit expensive??\n",
      "4                                             The laptop works perfectly fine.   \n",
      "5    Check out the full product details here: https://example.com/product-details\n",
      "6         <div><h2>Great Purchase!</h2><p>I am happy with this product.</p></div>\n",
      "7                The battry life is excelent, but the chargin cable is too short.\n",
      "8                       I can't believe it's so good! Didn't expect such quality.\n",
      "9                   Love this product! ???? Fast delivery ??, amazing quality! ??\n",
      "10                       TBH, I wasn’t expecting much, but OMG, this is awesome!!\n",
      "11                          This is the best product I have ever used in my life!\n",
      "12  The shoes were comfortable, fitting nicely, and worked perfectly for jogging.\n"
     ]
    }
   ],
   "source": [
    "# Load dataset\n",
    "import pandas as pd\n",
    "file_path = \"Review.csv\"\n",
    "df = pd.read_csv(file_path)\n",
    "\n",
    "# Display column content without truncation\n",
    "pd.set_option('display.max_colwidth', None) # Set to None for unlimited width\n",
    "print(df)"
   ]
  },
  {
   "cell_type": "markdown",
   "id": "20e2bfce-531c-4371-ae57-341da2b2ed2e",
   "metadata": {},
   "source": [
    "## Step 2: Perform Text Pre-Processing\n",
    "### . Convert text to lowercase\n"
   ]
  },
  {
   "cell_type": "code",
   "execution_count": 3,
   "id": "1354426a-e7d4-4e1c-b134-dbcc0aee5f16",
   "metadata": {},
   "outputs": [
    {
     "name": "stdout",
     "output_type": "stream",
     "text": [
      "0     the product arrived on time. packaging was great, and the quality is amazing!\n",
      "1                                          this product is just amazing! i love it.\n",
      "2       i bought this phone for $799, and it has a 120hz display. totally worth it!\n",
      "3                           wow!!! this product is awesome... but a bit expensive??\n",
      "4                                               the laptop works perfectly fine.   \n",
      "5      check out the full product details here: https://example.com/product-details\n",
      "6           <div><h2>great purchase!</h2><p>i am happy with this product.</p></div>\n",
      "7                  the battry life is excelent, but the chargin cable is too short.\n",
      "8                         i can't believe it's so good! didn't expect such quality.\n",
      "9                     love this product! ???? fast delivery ??, amazing quality! ??\n",
      "10                         tbh, i wasn’t expecting much, but omg, this is awesome!!\n",
      "11                            this is the best product i have ever used in my life!\n",
      "12    the shoes were comfortable, fitting nicely, and worked perfectly for jogging.\n",
      "Name: lowercased, dtype: object\n"
     ]
    }
   ],
   "source": [
    "def convert_to_lowercase(text):\n",
    "    return text.lower()\n",
    "\n",
    "df[\"lowercased\"] = df[\"Review\"].apply(convert_to_lowercase)\n",
    "\n",
    "pd.set_option('display.max_colwidth', None) # Set to None for unlimited width\n",
    "print(df[\"lowercased\"])"
   ]
  },
  {
   "cell_type": "markdown",
   "id": "14dfe2a3-31eb-4a9f-bccc-d6317ea0ab2e",
   "metadata": {},
   "source": [
    "### Remove URLs"
   ]
  },
  {
   "cell_type": "code",
   "execution_count": 7,
   "id": "999164c7-2854-4f6a-9271-f0fc92110af4",
   "metadata": {},
   "outputs": [
    {
     "name": "stdout",
     "output_type": "stream",
     "text": [
      "0     the product arrived on time. packaging was great, and the quality is amazing!\n",
      "1                                          this product is just amazing! i love it.\n",
      "2       i bought this phone for $799, and it has a 120hz display. totally worth it!\n",
      "3                           wow!!! this product is awesome... but a bit expensive??\n",
      "4                                               the laptop works perfectly fine.   \n",
      "5                                         check out the full product details here: \n",
      "6           <div><h2>great purchase!</h2><p>i am happy with this product.</p></div>\n",
      "7                  the battry life is excelent, but the chargin cable is too short.\n",
      "8                         i can't believe it's so good! didn't expect such quality.\n",
      "9                     love this product! ???? fast delivery ??, amazing quality! ??\n",
      "10                         tbh, i wasn’t expecting much, but omg, this is awesome!!\n",
      "11                            this is the best product i have ever used in my life!\n",
      "12    the shoes were comfortable, fitting nicely, and worked perfectly for jogging.\n",
      "Name: urls_removed, dtype: object\n"
     ]
    }
   ],
   "source": [
    "import re\n",
    "\n",
    "def remove_urls(text):\n",
    " return re.sub(r'http\\S+|www\\S+', '', text)\n",
    "df[\"urls_removed\"] = df[\"lowercased\"].apply(remove_urls)\n",
    "\n",
    "pd.set_option('display.max_colwidth', None) # Set to None for unlimited width\n",
    "print(df[\"urls_removed\"])"
   ]
  },
  {
   "cell_type": "markdown",
   "id": "2c0d5185-a2d3-4b95-a944-3c0c27221efa",
   "metadata": {},
   "source": [
    "### Remove HTML tags"
   ]
  },
  {
   "cell_type": "code",
   "execution_count": 10,
   "id": "64a76621-cb85-446d-830c-6697fe9eda27",
   "metadata": {},
   "outputs": [
    {
     "name": "stdout",
     "output_type": "stream",
     "text": [
      "0     the product arrived on time. packaging was great, and the quality is amazing!\n",
      "1                                          this product is just amazing! i love it.\n",
      "2       i bought this phone for $799, and it has a 120hz display. totally worth it!\n",
      "3                           wow!!! this product is awesome... but a bit expensive??\n",
      "4                                               the laptop works perfectly fine.   \n",
      "5                                         check out the full product details here: \n",
      "6                                      great purchase!i am happy with this product.\n",
      "7                  the battry life is excelent, but the chargin cable is too short.\n",
      "8                         i can't believe it's so good! didn't expect such quality.\n",
      "9                     love this product! ???? fast delivery ??, amazing quality! ??\n",
      "10                         tbh, i wasn’t expecting much, but omg, this is awesome!!\n",
      "11                            this is the best product i have ever used in my life!\n",
      "12    the shoes were comfortable, fitting nicely, and worked perfectly for jogging.\n",
      "Name: html_removed, dtype: object\n"
     ]
    }
   ],
   "source": [
    "from bs4 import BeautifulSoup\n",
    "\n",
    "def remove_html_tags(text):\n",
    "    return BeautifulSoup(text, \"html.parser\").get_text()\n",
    "\n",
    "df[\"html_removed\"] = df[\"urls_removed\"].apply(remove_html_tags)\n",
    "\n",
    "pd.set_option('display.max_colwidth', None) # Set to None for unlimited width\n",
    "print(df[\"html_removed\"])"
   ]
  },
  {
   "cell_type": "markdown",
   "id": "01f7860d-6aef-4b24-b587-f3d1269386d9",
   "metadata": {},
   "source": [
    "###  Remove emojis\n"
   ]
  },
  {
   "cell_type": "code",
   "execution_count": 20,
   "id": "d7f76883-be50-4ddb-be96-065251b4dbdf",
   "metadata": {},
   "outputs": [
    {
     "name": "stdout",
     "output_type": "stream",
     "text": [
      "Collecting emoji\n",
      "  Downloading emoji-2.14.1-py3-none-any.whl.metadata (5.7 kB)\n",
      "Downloading emoji-2.14.1-py3-none-any.whl (590 kB)\n",
      "   ---------------------------------------- 0.0/590.6 kB ? eta -:--:--\n",
      "   ----------------- ---------------------- 262.1/590.6 kB ? eta -:--:--\n",
      "   ----------------- ---------------------- 262.1/590.6 kB ? eta -:--:--\n",
      "   --------------------------------- ---- 524.3/590.6 kB 598.5 kB/s eta 0:00:01\n",
      "   -------------------------------------- 590.6/590.6 kB 525.6 kB/s eta 0:00:00\n",
      "Installing collected packages: emoji\n",
      "Successfully installed emoji-2.14.1\n"
     ]
    }
   ],
   "source": [
    "!pip install emoji"
   ]
  },
  {
   "cell_type": "code",
   "execution_count": 22,
   "id": "25f01c37-c42b-4b4f-995a-3d2aa3b65bf6",
   "metadata": {},
   "outputs": [
    {
     "name": "stdout",
     "output_type": "stream",
     "text": [
      "0     the product arrived on time. packaging was great, and the quality is amazing!\n",
      "1                                          this product is just amazing! i love it.\n",
      "2       i bought this phone for $799, and it has a 120hz display. totally worth it!\n",
      "3                           wow!!! this product is awesome... but a bit expensive??\n",
      "4                                               the laptop works perfectly fine.   \n",
      "5                                         check out the full product details here: \n",
      "6                                      great purchase!i am happy with this product.\n",
      "7                  the battry life is excelent, but the chargin cable is too short.\n",
      "8                         i can't believe it's so good! didn't expect such quality.\n",
      "9                     love this product! ???? fast delivery ??, amazing quality! ??\n",
      "10                         tbh, i wasn’t expecting much, but omg, this is awesome!!\n",
      "11                            this is the best product i have ever used in my life!\n",
      "12    the shoes were comfortable, fitting nicely, and worked perfectly for jogging.\n",
      "Name: emojis_removed, dtype: object\n"
     ]
    }
   ],
   "source": [
    "\n",
    "import emoji\n",
    "\n",
    "def remove_emojis(text):\n",
    "    return emoji.replace_emoji(text, replace='')\n",
    "\n",
    "df[\"emojis_removed\"] = df[\"html_removed\"].apply(remove_emojis)\n",
    "\n",
    "pd.set_option('display.max_colwidth', None) # Set to None for unlimited width\n",
    "print(df[\"emojis_removed\"])\n"
   ]
  },
  {
   "cell_type": "markdown",
   "id": "47334c95-66ae-45cc-a166-9a6e68863277",
   "metadata": {},
   "source": [
    "### Replace internet slang/chat words\n"
   ]
  },
  {
   "cell_type": "code",
   "execution_count": 27,
   "id": "5933b445-fb30-4a0a-b7a6-1e83e4d9c95c",
   "metadata": {},
   "outputs": [
    {
     "name": "stdout",
     "output_type": "stream",
     "text": [
      "0     the product arrived on time. packaging was great, and the quality is amazing!\n",
      "1                                          this product is just amazing! i love it.\n",
      "2       i bought this phone for $799, and it has a 120hz display. totally worth it!\n",
      "3                           wow!!! this product is awesome... but a bit expensive??\n",
      "4                                               the laptop works perfectly fine.   \n",
      "5                                         check out the full product details here: \n",
      "6                                      great purchase!i am happy with this product.\n",
      "7                  the battry life is excelent, but the chargin cable is too short.\n",
      "8                         i can't believe it's so good! didn't expect such quality.\n",
      "9                     love this product! ???? fast delivery ??, amazing quality! ??\n",
      "10          to be honest, i wasn’t expecting much, but oh my god, this is awesome!!\n",
      "11                            this is the best product i have ever used in my life!\n",
      "12    the shoes were comfortable, fitting nicely, and worked perfectly for jogging.\n",
      "Name: slangs_replaced, dtype: object\n"
     ]
    }
   ],
   "source": [
    "# Dictionary of slang words and their replacements\n",
    "slang_dict = {\n",
    "    \"tbh\": \"to be honest\",\n",
    "    \"omg\": \"oh my god\",\n",
    "    \"lol\": \"laugh out loud\",\n",
    "    \"idk\": \"I don't know\",\n",
    "    \"brb\": \"be right back\",\n",
    "    \"btw\": \"by the way\",\n",
    "    \"imo\": \"in my opinion\",\n",
    "    \"smh\": \"shaking my head\",\n",
    "    \"fyi\": \"for your information\",\n",
    "    \"np\": \"no problem\",\n",
    "    \"ikr\": \"I know right\",\n",
    "    \"asap\": \"as soon as possible\",\n",
    "    \"bff\": \"best friend forever\",\n",
    "    \"gg\": \"good game\",\n",
    "    \"hmu\": \"hit me up\",\n",
    "    \"rofl\": \"rolling on the floor laughing\"\n",
    "}  \n",
    "\n",
    "# Function to replace slang words\n",
    "def replace_slang(text):\n",
    "    if not isinstance(text, str):  # Handle cases where text is not a string\n",
    "        return text\n",
    "\n",
    "    # Create a list of escaped slang words\n",
    "    escaped_slang_words = [re.escape(word) for word in slang_dict.keys()]\n",
    "\n",
    "    # Join the words using '|'\n",
    "    slang_pattern = r'\\b(' + '|'.join(escaped_slang_words) + r')\\b'\n",
    "\n",
    "    # Define a replacement function\n",
    "    def replace_match(match):\n",
    "        slang_word = match.group(0)  # Extract matched slang word\n",
    "        return slang_dict[slang_word.lower()]  # Replace with full form\n",
    "\n",
    "    # Use regex to replace slang words with full forms\n",
    "    replaced_text = re.sub(slang_pattern, replace_match, text, flags=re.IGNORECASE)\n",
    "    return replaced_text\n",
    "\n",
    "# Ensure the column exists before applying the function\n",
    "if \"emojis_removed\" in df.columns:\n",
    "    df[\"slangs_replaced\"] = df[\"emojis_removed\"].apply(replace_slang)\n",
    "else:\n",
    "    print(\"Error: Column 'emojis_removed' does not exist in the DataFrame.\")\n",
    "\n",
    "# Display column content without truncation\n",
    "pd.set_option('display.max_colwidth', None)  # Set to None for unlimited width\n",
    "\n",
    "# Print the modified column\n",
    "if \"slangs_replaced\" in df.columns:\n",
    "    print(df[\"slangs_replaced\"])\n"
   ]
  },
  {
   "cell_type": "markdown",
   "id": "06d289a9-a3af-4758-8f04-056245f8502c",
   "metadata": {},
   "source": [
    "### Replace Contractions"
   ]
  },
  {
   "cell_type": "code",
   "execution_count": 86,
   "id": "66d0bd26-f427-4bd3-a70f-7d74aaf2382d",
   "metadata": {},
   "outputs": [
    {
     "name": "stdout",
     "output_type": "stream",
     "text": [
      "0     the product arrived on time. packaging was great, and the quality is amazing!\n",
      "1                                          this product is just amazing! i love it.\n",
      "2       i bought this phone for $799, and it has a 120hz display. totally worth it!\n",
      "3                           wow!!! this product is awesome... but a bit expensive??\n",
      "4                                               the laptop works perfectly fine.   \n",
      "5                                         check out the full product details here: \n",
      "6                                      great purchase!i am happy with this product.\n",
      "7                  the battry life is excelent, but the chargin cable is too short.\n",
      "8                      i cannot believe it is so good! did not expect such quality.\n",
      "9                     love this product! ???? fast delivery ??, amazing quality! ??\n",
      "10         to be honest, i was not expecting much, but oh my god, this is awesome!!\n",
      "11                            this is the best product i have ever used in my life!\n",
      "12    the shoes were comfortable, fitting nicely, and worked perfectly for jogging.\n",
      "Name: contractions_replaced, dtype: object\n"
     ]
    }
   ],
   "source": [
    "import re\n",
    "import pandas as pd\n",
    "\n",
    "# Dictionary of contractions and their replacements\n",
    "contractions_dict = {\n",
    "    \"wasn't\": \"was not\",\n",
    "    \"isn't\": \"is not\",\n",
    "    \"aren't\": \"are not\",\n",
    "    \"weren't\": \"were not\",\n",
    "    \"doesn't\": \"does not\",\n",
    "    \"don't\": \"do not\",\n",
    "    \"didn't\": \"did not\",\n",
    "    \"can't\": \"cannot\",\n",
    "    \"couldn't\": \"could not\",\n",
    "    \"shouldn't\": \"should not\",\n",
    "    \"wouldn't\": \"would not\",\n",
    "    \"won't\": \"will not\",\n",
    "    \"haven't\": \"have not\",\n",
    "    \"hasn't\": \"has not\",\n",
    "    \"hadn't\": \"had not\",\n",
    "    \"i'm\": \"i am\",\n",
    "    \"you're\": \"you are\",\n",
    "    \"he's\": \"he is\",\n",
    "    \"she's\": \"she is\",\n",
    "    \"it's\": \"it is\",\n",
    "    \"we're\": \"we are\",\n",
    "    \"they're\": \"they are\",\n",
    "    \"i've\": \"i have\",\n",
    "    \"you've\": \"you have\",\n",
    "    \"we've\": \"we have\",\n",
    "    \"they've\": \"they have\",\n",
    "    \"i'd\": \"i would\",\n",
    "    \"you'd\": \"you would\",\n",
    "    \"he'd\": \"he would\",\n",
    "    \"she'd\": \"she would\",\n",
    "    \"we'd\": \"we would\",\n",
    "    \"they'd\": \"they would\",\n",
    "    \"i'll\": \"i will\",\n",
    "    \"you'll\": \"you will\",\n",
    "    \"he'll\": \"he will\",\n",
    "    \"she'll\": \"she will\",\n",
    "    \"we'll\": \"we will\",\n",
    "    \"they'll\": \"they will\",\n",
    "    \"let's\": \"let us\",\n",
    "    \"that's\": \"that is\",\n",
    "    \"who's\": \"who is\",\n",
    "    \"what's\": \"what is\",\n",
    "    \"where's\": \"where is\",\n",
    "    \"when's\": \"when is\",\n",
    "    \"why's\": \"why is\"\n",
    "}\n",
    "\n",
    "# Build the regex pattern for contractions\n",
    "escaped_contractions = [re.escape(contraction) for contraction in contractions_dict.keys()]  # Escaping apostrophes and special characters\n",
    "joined_contractions = \"|\".join(escaped_contractions)  # Join the escaped contractions with '|'\n",
    "\n",
    "# Create a regex pattern with word boundaries (\\b)\n",
    "contractions_pattern = r'\\b(' + joined_contractions + r')\\b'\n",
    "\n",
    "# Compile the regex for efficiency\n",
    "compiled_pattern = re.compile(contractions_pattern, flags=re.IGNORECASE)\n",
    "\n",
    "# Define a function to replace contractions\n",
    "def replace_contractions(text):\n",
    "    if not isinstance(text, str):  # Handle cases where text is not a string\n",
    "        return text\n",
    "    \n",
    "    # Normalize curly apostrophes to straight apostrophes\n",
    "    text = text.replace(\"’\", \"'\")  # Replace curly apostrophe with straight apostrophe\n",
    "    \n",
    "    # Function to handle each match found\n",
    "    def replace_match(match):\n",
    "        matched_word = match.group(0)  # Extract matched contraction\n",
    "        lower_matched_word = matched_word.lower()  # Convert to lowercase  \n",
    "        return contractions_dict[lower_matched_word]  # Get full form from dictionary\n",
    "\n",
    "    # Apply regex substitution\n",
    "    expanded_text = compiled_pattern.sub(replace_match, text)\n",
    "    return expanded_text  # Return modified text\n",
    "\n",
    "# Ensure the column exists before applying the function\n",
    "if \"slangs_replaced\" in df.columns:\n",
    "    df[\"contractions_replaced\"] = df[\"slangs_replaced\"].apply(replace_contractions)\n",
    "else:\n",
    "    print(\"Error: Column 'slangs_replaced' does not exist in the DataFrame.\")\n",
    "\n",
    "# Display column content without truncation\n",
    "pd.set_option('display.max_colwidth', None)  # Set to None for unlimited width\n",
    "\n",
    "# Print the modified column\n",
    "if \"contractions_replaced\" in df.columns:\n",
    "    print(df[\"contractions_replaced\"])\n"
   ]
  },
  {
   "cell_type": "markdown",
   "id": "8f74c452-419a-468b-aa74-ec2711d7da25",
   "metadata": {},
   "source": [
    "### Remove punctuations and special characters\n"
   ]
  },
  {
   "cell_type": "code",
   "execution_count": 89,
   "id": "fbc86b05-33fb-4d5b-b0c1-8a0316bef7b8",
   "metadata": {},
   "outputs": [
    {
     "name": "stdout",
     "output_type": "stream",
     "text": [
      "0     the product arrived on time packaging was great and the quality is amazing\n",
      "1                                         this product is just amazing i love it\n",
      "2        i bought this phone for 799 and it has a 120hz display totally worth it\n",
      "3                                wow this product is awesome but a bit expensive\n",
      "4                                             the laptop works perfectly fine   \n",
      "5                                       check out the full product details here \n",
      "6                                     great purchasei am happy with this product\n",
      "7                 the battry life is excelent but the chargin cable is too short\n",
      "8                     i cannot believe it is so good did not expect such quality\n",
      "9                             love this product  fast delivery  amazing quality \n",
      "10           to be honest i was not expecting much but oh my god this is awesome\n",
      "11                          this is the best product i have ever used in my life\n",
      "12    the shoes were comfortable fitting nicely and worked perfectly for jogging\n",
      "Name: punctuations_removed, dtype: object\n"
     ]
    }
   ],
   "source": [
    "# Remove punctuations and special characters\n",
    "import string\n",
    "# Function to remove punctuation\n",
    "def remove_punctuation(text):\n",
    " return text.translate(str.maketrans('', '', string.punctuation))\n",
    "# Apply the function to the column\n",
    "df[\"punctuations_removed\"] = df[\"contractions_replaced\"].apply(remove_punctuation)\n",
    "# Display column content without truncation\n",
    "pd.set_option('display.max_colwidth', None) # Set to None for unlimited width\n",
    "print(df[\"punctuations_removed\"])\n",
    "\n"
   ]
  },
  {
   "cell_type": "markdown",
   "id": "7d123bd2-dd8d-4a66-ad96-eb4dffd772c7",
   "metadata": {},
   "source": [
    "### Remove numbers\n",
    "\n"
   ]
  },
  {
   "cell_type": "code",
   "execution_count": 92,
   "id": "e95d0797-1e43-4808-974d-da5b931ebffe",
   "metadata": {},
   "outputs": [
    {
     "name": "stdout",
     "output_type": "stream",
     "text": [
      "0     the product arrived on time packaging was great and the quality is amazing\n",
      "1                                         this product is just amazing i love it\n",
      "2              i bought this phone for  and it has a hz display totally worth it\n",
      "3                                wow this product is awesome but a bit expensive\n",
      "4                                             the laptop works perfectly fine   \n",
      "5                                       check out the full product details here \n",
      "6                                     great purchasei am happy with this product\n",
      "7                 the battry life is excelent but the chargin cable is too short\n",
      "8                     i cannot believe it is so good did not expect such quality\n",
      "9                             love this product  fast delivery  amazing quality \n",
      "10           to be honest i was not expecting much but oh my god this is awesome\n",
      "11                          this is the best product i have ever used in my life\n",
      "12    the shoes were comfortable fitting nicely and worked perfectly for jogging\n",
      "Name: numbers_removed, dtype: object\n"
     ]
    }
   ],
   "source": [
    "# Remove numbers\n",
    "def remove_numbers(text):\n",
    " return re.sub(r'\\d+', '', text) # Removes all numeric characters\n",
    "# Apply the function to the column\n",
    "df[\"numbers_removed\"] = df[\"punctuations_removed\"].apply(remove_numbers)\n",
    "# Display column content without truncation\n",
    "pd.set_option('display.max_colwidth', None) # Set to None for unlimited width\n",
    "print(df[\"numbers_removed\"])"
   ]
  },
  {
   "cell_type": "markdown",
   "id": "59e366da-c1e3-4367-9540-b31b5917fc20",
   "metadata": {},
   "source": [
    "### Correct spelling mistakes"
   ]
  },
  {
   "cell_type": "code",
   "execution_count": 95,
   "id": "72f1d7c2-3b32-43eb-85f9-cd232d6e5d8d",
   "metadata": {},
   "outputs": [
    {
     "name": "stdout",
     "output_type": "stream",
     "text": [
      "Requirement already satisfied: autocorrect in c:\\users\\user\\anaconda3\\lib\\site-packages (2.6.1)\n"
     ]
    }
   ],
   "source": [
    "!pip install autocorrect\n"
   ]
  },
  {
   "cell_type": "code",
   "execution_count": 96,
   "id": "bd2a836c-f076-4c5b-b14b-3df416f06232",
   "metadata": {},
   "outputs": [
    {
     "name": "stdout",
     "output_type": "stream",
     "text": [
      "0     the product arrived on time packaging was great and the quality is amazing\n",
      "1                                         this product is just amazing i love it\n",
      "2              i bought this phone for  and it has a hz display totally worth it\n",
      "3                                wow this product is awesome but a bit expensive\n",
      "4                                             the laptop works perfectly fine   \n",
      "5                                       check out the full product details here \n",
      "6                                     great purchased am happy with this product\n",
      "7              the battery life is excellent but the charging cable is too short\n",
      "8                     i cannot believe it is so good did not expect such quality\n",
      "9                             love this product  fast delivery  amazing quality \n",
      "10           to be honest i was not expecting much but oh my god this is awesome\n",
      "11                          this is the best product i have ever used in my life\n",
      "12    the shoes were comfortable fitting nicely and worked perfectly for jogging\n",
      "Name: spelling_corrected, dtype: object\n"
     ]
    }
   ],
   "source": [
    "# Correct spelling mistakes\n",
    "from autocorrect import Speller\n",
    "# Initialize spell checker\n",
    "spell = Speller(lang='en')\n",
    "# Function to correct spelling\n",
    "def correct_spelling(text):\n",
    " return spell(text) # Apply correction\n",
    "# Apply the function to the column\n",
    "df[\"spelling_corrected\"] = df[\"numbers_removed\"].apply(correct_spelling)\n",
    "# Display column content without truncation\n",
    "pd.set_option('display.max_colwidth', None) # Set to None for unlimited width\n",
    "print(df[\"spelling_corrected\"])"
   ]
  },
  {
   "cell_type": "markdown",
   "id": "b6ab22a8-9b15-47df-97b9-87f19b3521a1",
   "metadata": {},
   "source": [
    "### Remove stopwords"
   ]
  },
  {
   "cell_type": "code",
   "execution_count": 98,
   "id": "3ef15be0-470f-459c-8e28-abd7e2cd14d6",
   "metadata": {},
   "outputs": [
    {
     "name": "stdout",
     "output_type": "stream",
     "text": [
      "0          product arrived time packaging great quality amazing\n",
      "1                                          product amazing love\n",
      "2                         bought phone hz display totally worth\n",
      "3                             wow product awesome bit expensive\n",
      "4                                   laptop works perfectly fine\n",
      "5                                    check full product details\n",
      "6                                 great purchased happy product\n",
      "7                   battery life excellent charging cable short\n",
      "8                            cannot believe good expect quality\n",
      "9                    love product fast delivery amazing quality\n",
      "10                         honest expecting much oh god awesome\n",
      "11                                  best product ever used life\n",
      "12    shoes comfortable fitting nicely worked perfectly jogging\n",
      "Name: stopwords_removed, dtype: object\n"
     ]
    },
    {
     "name": "stderr",
     "output_type": "stream",
     "text": [
      "[nltk_data] Downloading package stopwords to\n",
      "[nltk_data]     C:\\Users\\User\\AppData\\Roaming\\nltk_data...\n",
      "[nltk_data]   Package stopwords is already up-to-date!\n"
     ]
    }
   ],
   "source": [
    "import nltk\n",
    "from nltk.corpus import stopwords\n",
    "\n",
    "# Download stopwords if not already downloaded\n",
    "nltk.download('stopwords')\n",
    "\n",
    "# Define stopwords list\n",
    "stop_words = set(stopwords.words('english'))\n",
    "\n",
    "# Function to remove stopwords\n",
    "def remove_stopwords(text):\n",
    "    if not isinstance(text, str):  # Handle cases where text is not a string\n",
    "        return text\n",
    "\n",
    "    words = text.split()  # Split text into words\n",
    "    filtered_words = []  # Create an empty list to store words after stopword removal\n",
    "\n",
    "    for word in words:  # Loop through each word in the list of words\n",
    "        lower_word = word.lower()  # Convert the word to lowercase for uniform comparison\n",
    "        if lower_word not in stop_words:  # Check if the lowercase word is NOT in the stopwords list\n",
    "            filtered_words.append(word)  # If it's not a stopword, add it to the filtered list\n",
    "    \n",
    "    return \" \".join(filtered_words)  # Join words back into a sentence\n",
    "\n",
    "# Ensure the column exists before applying the function\n",
    "if \"spelling_corrected\" in df.columns:\n",
    "    df[\"stopwords_removed\"] = df[\"spelling_corrected\"].apply(remove_stopwords)\n",
    "else:\n",
    "    print(\"Error: Column 'spelling_corrected' does not exist in the DataFrame.\")\n",
    "\n",
    "# Display column content without truncation\n",
    "pd.set_option('display.max_colwidth', None)  # Set to None for unlimited width\n",
    "\n",
    "# Print the modified column\n",
    "if \"stopwords_removed\" in df.columns:\n",
    "    print(df[\"stopwords_removed\"])\n"
   ]
  },
  {
   "cell_type": "markdown",
   "id": "39fb4607-f932-4652-8161-0aa29ce25d0d",
   "metadata": {},
   "source": [
    "### Stemming - - reduces words to their base root by chopping off suffixes\n"
   ]
  },
  {
   "cell_type": "code",
   "execution_count": 100,
   "id": "30de3a43-adf4-4604-a5a2-8033aeb3de2f",
   "metadata": {},
   "outputs": [
    {
     "name": "stdout",
     "output_type": "stream",
     "text": [
      "0     product arriv time packag great qualiti amaz\n",
      "1                                product amaz love\n",
      "2              bought phone hz display total worth\n",
      "3                    wow product awesom bit expens\n",
      "4                       laptop work perfectli fine\n",
      "5                        check full product detail\n",
      "6                      great purchas happi product\n",
      "7              batteri life excel charg cabl short\n",
      "8                cannot believ good expect qualiti\n",
      "9          love product fast deliveri amaz qualiti\n",
      "10                honest expect much oh god awesom\n",
      "11                      best product ever use life\n",
      "12        shoe comfort fit nice work perfectli jog\n",
      "Name: stemmed_words, dtype: object\n"
     ]
    }
   ],
   "source": [
    "from nltk.stem import PorterStemmer\n",
    "import pandas as pd\n",
    "\n",
    "# Initialize the stemmer\n",
    "stemmer = PorterStemmer()\n",
    "\n",
    "# Function to apply stemming\n",
    "def stem_text(text):\n",
    "    if not isinstance(text, str):  # Ensure input is a string\n",
    "        return \"\"\n",
    "    \n",
    "    words = text.split()  # Split text into words\n",
    "    stemmed_words = [stemmer.stem(word) for word in words]  # Apply stemming\n",
    "    \n",
    "    return \" \".join(stemmed_words)  # Join stemmed words back into a sentence\n",
    "\n",
    "# Ensure the column exists before applying the function\n",
    "if \"stopwords_removed\" in df.columns:\n",
    "    df[\"stemmed_words\"] = df[\"stopwords_removed\"].apply(stem_text)\n",
    "else:\n",
    "    print(\"Error: Column 'stopwords_removed' does not exist in the DataFrame.\")\n",
    "\n",
    "# Display column content without truncation\n",
    "pd.set_option('display.max_colwidth', None)  # Set to None for unlimited width\n",
    "\n",
    "# Print the modified column\n",
    "if \"stemmed_words\" in df.columns:\n",
    "    print(df[\"stemmed_words\"])\n"
   ]
  },
  {
   "cell_type": "markdown",
   "id": "4a30648b-ac10-4fa1-8db7-29ae61a9b7e7",
   "metadata": {},
   "source": [
    "### Lemmatization - reduces words to their base dictionary form (lemma)"
   ]
  },
  {
   "cell_type": "code",
   "execution_count": 102,
   "id": "48ae6d12-517d-4073-8a77-3786fc2b0b95",
   "metadata": {},
   "outputs": [
    {
     "name": "stdout",
     "output_type": "stream",
     "text": [
      "0     product arrive time packaging great quality amazing\n",
      "1                                      product amaze love\n",
      "2                      buy phone hz display totally worth\n",
      "3                       wow product awesome bit expensive\n",
      "4                              laptop work perfectly fine\n",
      "5                               check full product detail\n",
      "6                            great purchase happy product\n",
      "7               battery life excellent charge cable short\n",
      "8                     can not believe good expect quality\n",
      "9              love product fast delivery amazing quality\n",
      "10                      honest expect much oh god awesome\n",
      "11                             best product ever use life\n",
      "12         shoe comfortable fit nicely work perfectly jog\n",
      "Name: lemmatized, dtype: object\n"
     ]
    },
    {
     "name": "stderr",
     "output_type": "stream",
     "text": [
      "[nltk_data] Downloading package wordnet to\n",
      "[nltk_data]     C:\\Users\\User\\AppData\\Roaming\\nltk_data...\n",
      "[nltk_data]   Package wordnet is already up-to-date!\n",
      "[nltk_data] Downloading package omw-1.4 to\n",
      "[nltk_data]     C:\\Users\\User\\AppData\\Roaming\\nltk_data...\n",
      "[nltk_data]   Package omw-1.4 is already up-to-date!\n",
      "[nltk_data] Downloading package averaged_perceptron_tagger to\n",
      "[nltk_data]     C:\\Users\\User\\AppData\\Roaming\\nltk_data...\n",
      "[nltk_data]   Package averaged_perceptron_tagger is already up-to-\n",
      "[nltk_data]       date!\n",
      "[nltk_data] Downloading package punkt to\n",
      "[nltk_data]     C:\\Users\\User\\AppData\\Roaming\\nltk_data...\n",
      "[nltk_data]   Package punkt is already up-to-date!\n",
      "[nltk_data] Downloading package punkt_tab to\n",
      "[nltk_data]     C:\\Users\\User\\AppData\\Roaming\\nltk_data...\n",
      "[nltk_data]   Package punkt_tab is already up-to-date!\n",
      "[nltk_data] Downloading package averaged_perceptron_tagger_eng to\n",
      "[nltk_data]     C:\\Users\\User\\AppData\\Roaming\\nltk_data...\n",
      "[nltk_data]   Package averaged_perceptron_tagger_eng is already up-to-\n",
      "[nltk_data]       date!\n"
     ]
    }
   ],
   "source": [
    "import nltk\n",
    "\n",
    "from nltk.stem import WordNetLemmatizer\n",
    "from nltk.corpus import wordnet\n",
    "from nltk.tokenize import word_tokenize\n",
    "from nltk import pos_tag\n",
    "\n",
    "\n",
    "# Download the required resources\n",
    "nltk.download('wordnet')  # For lemmatization\n",
    "nltk.download('omw-1.4')  # WordNet lexical database\n",
    "nltk.download('averaged_perceptron_tagger')  # For POS tagging\n",
    "nltk.download('punkt')# For tokenization\n",
    "nltk.download('punkt_tab')\n",
    "nltk.download('averaged_perceptron_tagger_eng')\n",
    "\n",
    "\n",
    "# Initialize the lemmatizer\n",
    "lemmatizer = WordNetLemmatizer()\n",
    "\n",
    "# Function to map NLTK POS tags to WordNet POS tags\n",
    "def get_wordnet_pos(nltk_tag):\n",
    "    if nltk_tag.startswith('J'):  # Adjective\n",
    "        return wordnet.ADJ\n",
    "    elif nltk_tag.startswith('V'):  # Verb\n",
    "        return wordnet.VERB\n",
    "    elif nltk_tag.startswith('N'):  # Noun\n",
    "        return wordnet.NOUN\n",
    "    elif nltk_tag.startswith('R'):  # Adverb\n",
    "        return wordnet.ADV\n",
    "    else:\n",
    "        return wordnet.NOUN  # Default to noun\n",
    "\n",
    "# Function to lemmatize text with POS tagging\n",
    "def lemmatize_text(text):\n",
    "    if not isinstance(text, str):  # Ensure input is a string\n",
    "        return \"\"\n",
    "    \n",
    "    words = word_tokenize(text)  # Tokenize text into words\n",
    "    pos_tags = pos_tag(words)  # Get POS tags\n",
    "\n",
    "    # Lemmatize each word with its correct POS tag\n",
    "    lemmatized_words = [lemmatizer.lemmatize(word, get_wordnet_pos(tag)) for word, tag in pos_tags]\n",
    "\n",
    "    return \" \".join(lemmatized_words)  # Join words back into a sentence\n",
    "\n",
    "# Ensure the column exists before applying the function\n",
    "if \"stopwords_removed\" in df.columns:\n",
    "    df[\"lemmatized\"] = df[\"stopwords_removed\"].apply(lemmatize_text)\n",
    "else:\n",
    "    print(\"Error: Column 'stopwords_removed' does not exist in the DataFrame.\")\n",
    "\n",
    "# Display column content without truncation\n",
    "pd.set_option('display.max_colwidth', None)  # Set to None for unlimited width\n",
    "\n",
    "# Print the modified column\n",
    "if \"lemmatized\" in df.columns:\n",
    "    print(df[\"lemmatized\"])\n"
   ]
  },
  {
   "cell_type": "markdown",
   "id": "73ed69f1-4f91-456f-ab20-187fb900efec",
   "metadata": {},
   "source": [
    "## Step 3 Save the result to a file\n"
   ]
  },
  {
   "cell_type": "code",
   "execution_count": 109,
   "id": "11159cdc-f940-48c3-a841-16ccf21de4fe",
   "metadata": {},
   "outputs": [],
   "source": [
    "df.to_csv(\"Processed_Reviews.csv\", index=False)"
   ]
  },
  {
   "cell_type": "code",
   "execution_count": null,
   "id": "d2239a38-88a1-4cf4-9916-26af08c19ca3",
   "metadata": {},
   "outputs": [],
   "source": []
  }
 ],
 "metadata": {
  "kernelspec": {
   "display_name": "Python [conda env:base] *",
   "language": "python",
   "name": "conda-base-py"
  },
  "language_info": {
   "codemirror_mode": {
    "name": "ipython",
    "version": 3
   },
   "file_extension": ".py",
   "mimetype": "text/x-python",
   "name": "python",
   "nbconvert_exporter": "python",
   "pygments_lexer": "ipython3",
   "version": "3.12.7"
  }
 },
 "nbformat": 4,
 "nbformat_minor": 5
}
